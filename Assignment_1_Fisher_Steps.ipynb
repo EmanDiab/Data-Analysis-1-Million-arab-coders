{
  "nbformat": 4,
  "nbformat_minor": 0,
  "metadata": {
    "kernelspec": {
      "display_name": "Python 3",
      "language": "python",
      "name": "python3"
    },
    "language_info": {
      "codemirror_mode": {
        "name": "ipython",
        "version": 3
      },
      "file_extension": ".py",
      "mimetype": "text/x-python",
      "name": "python",
      "nbconvert_exporter": "python",
      "pygments_lexer": "ipython3",
      "version": "3.7.4"
    },
    "colab": {
      "name": "Assignment 1 Fisher Steps.ipynb",
      "provenance": [],
      "collapsed_sections": [],
      "include_colab_link": true
    }
  },
  "cells": [
    {
      "cell_type": "markdown",
      "metadata": {
        "id": "view-in-github",
        "colab_type": "text"
      },
      "source": [
        "<a href=\"https://colab.research.google.com/github/EmanDiab/Data-Analysis-1-Million-arab-coders/blob/master/Assignment_1_Fisher_Steps.ipynb\" target=\"_parent\"><img src=\"https://colab.research.google.com/assets/colab-badge.svg\" alt=\"Open In Colab\"/></a>"
      ]
    },
    {
      "cell_type": "markdown",
      "metadata": {
        "id": "H82Ldjq_uTnF",
        "colab_type": "text"
      },
      "source": [
        "# Assignment 1: Fisher Implementation"
      ]
    },
    {
      "cell_type": "markdown",
      "metadata": {
        "id": "RUYUMTs6uTnL",
        "colab_type": "text"
      },
      "source": [
        "<font color=blue><b>1- Import Needed Packages</b></font>"
      ]
    },
    {
      "cell_type": "code",
      "metadata": {
        "id": "CJmTeCRMuTnO",
        "colab_type": "code",
        "colab": {}
      },
      "source": [
        "import numpy as np\n",
        "import os\n",
        "import imageio\n",
        "import matplotlib.pylab as plt"
      ],
      "execution_count": 0,
      "outputs": []
    },
    {
      "cell_type": "markdown",
      "metadata": {
        "id": "Nx8pHpBcuTnZ",
        "colab_type": "text"
      },
      "source": [
        "### Get the current directory path"
      ]
    },
    {
      "cell_type": "code",
      "metadata": {
        "id": "d02q3mZDuTnb",
        "colab_type": "code",
        "colab": {}
      },
      "source": [
        "home_path = os.getcwd()"
      ],
      "execution_count": 0,
      "outputs": []
    },
    {
      "cell_type": "markdown",
      "metadata": {
        "id": "O7CNjXy1uTni",
        "colab_type": "text"
      },
      "source": [
        "<font color=blue><b>2- Load Images </b></font>"
      ]
    },
    {
      "cell_type": "code",
      "metadata": {
        "id": "MHRd79AZuTnl",
        "colab_type": "code",
        "outputId": "9ae9a721-74cf-477f-af1b-e3dda619b4b2",
        "colab": {
          "base_uri": "https://localhost:8080/",
          "height": 173
        }
      },
      "source": [
        "from google.colab import drive\n",
        "drive.mount('/content/drive')\n",
        "path='/content/drive/My Drive/assignment_1_fisher/Train/'\n",
        "os.chdir(path)\n",
        "\n",
        "Images=os.listdir()\n",
        "print(type(Images)) # How Does it store\n",
        "print(Images)\n",
        "print(len(Images))# To know number of them\n",
        "\n",
        "#print(Images)"
      ],
      "execution_count": 3,
      "outputs": [
        {
          "output_type": "stream",
          "text": [
            "Go to this URL in a browser: https://accounts.google.com/o/oauth2/auth?client_id=947318989803-6bn6qk8qdgf4n4g3pfee6491hc0brc4i.apps.googleusercontent.com&redirect_uri=urn%3Aietf%3Awg%3Aoauth%3A2.0%3Aoob&scope=email%20https%3A%2F%2Fwww.googleapis.com%2Fauth%2Fdocs.test%20https%3A%2F%2Fwww.googleapis.com%2Fauth%2Fdrive%20https%3A%2F%2Fwww.googleapis.com%2Fauth%2Fdrive.photos.readonly%20https%3A%2F%2Fwww.googleapis.com%2Fauth%2Fpeopleapi.readonly&response_type=code\n",
            "\n",
            "Enter your authorization code:\n",
            "··········\n",
            "Mounted at /content/drive\n",
            "<class 'list'>\n",
            "['1356.jpg', '1301.jpg', '1269.jpg', '1357.jpg', '1302.jpg', '127.jpg', '1303.jpg', '1270.jpg', '1358.jpg', '1304.jpg', '1271.jpg', '1359.jpg', '1305.jpg', '1272.jpg', '136.jpg', '1306.jpg', '1273.jpg', '1360.jpg', '1307.jpg', '1274.jpg', '1361.jpg', '1308.jpg', '1362.jpg', '1275.jpg', '1309.jpg', '1363.jpg', '131.jpg', '1276.jpg', '1364.jpg', '1310.jpg', '1277.jpg', '1365.jpg', '1311.jpg', '1366.jpg', '1278.jpg', '1312.jpg', '1367.jpg', '1279.jpg', '1313.jpg', '1368.jpg', '128.jpg', '1314.jpg', '1369.jpg', '1280.jpg', '1315.jpg', '137.jpg', '1281.jpg', '1316.jpg', '1370.jpg', '1282.jpg', '1317.jpg', '1283.jpg', '1371.jpg', '1318.jpg', '1284.jpg', '1372.jpg', '1285.jpg', '1319.jpg', '1373.jpg', '1286.jpg', '132.jpg', '1374.jpg', '1287.jpg', '1320.jpg', '1375.jpg', '1401.jpg', '1321.jpg', '1376.jpg', '1402.jpg', '1322.jpg', '1377.jpg', '1403.jpg', '1323.jpg', '1378.jpg', '1404.jpg', '1324.jpg', '1379.jpg', '1405.jpg', '1325.jpg', '138.jpg', '1406.jpg', '1326.jpg', '1380.jpg', '1407.jpg', '1327.jpg', '1381.jpg', '1408.jpg', '1382.jpg', '1328.jpg', '1409.jpg', '1329.jpg', '1383.jpg', '141.jpg', '133.jpg', '1410.jpg', '1384.jpg', '1330.jpg', '1385.jpg', '1411.jpg', '1331.jpg', '1412.jpg', '1386.jpg', '1332.jpg', '1413.jpg', '1387.jpg', '1333.jpg', '1414.jpg', '1388.jpg', '1334.jpg', '1389.jpg', '1415.jpg', '1335.jpg', '139.jpg', '1416.jpg', '1336.jpg', '1417.jpg', '1390.jpg', '1337.jpg', '1418.jpg', '1391.jpg', '1338.jpg', '1419.jpg', '1392.jpg', '1339.jpg', '1393.jpg', '142.jpg', '134.jpg', '1394.jpg', '1420.jpg', '1340.jpg', '1395.jpg', '1421.jpg', '1341.jpg', '1422.jpg', '1396.jpg', '1342.jpg', '1423.jpg', '1397.jpg', '1343.jpg', '1424.jpg', '1398.jpg', '1425.jpg', '1399.jpg', '146.jpg', '1426.jpg', '14.jpg', '1460.jpg', '1427.jpg', '140.jpg', '1461.jpg', '1428.jpg', '1400.jpg', '1462.jpg', '1517.jpg', '1429.jpg', '1463.jpg', '1518.jpg', '143.jpg', '1519.jpg', '1464.jpg', '1430.jpg', '152.jpg', '1431.jpg', '1465.jpg', '1520.jpg', '1466.jpg', '1432.jpg', '1521.jpg', '1467.jpg', '1522.jpg', '1433.jpg', '1523.jpg', '1468.jpg', '1434.jpg', '1469.jpg', '1524.jpg', '1435.jpg', '147.jpg', '1525.jpg', '1470.jpg', '1436.jpg', '1471.jpg', '1526.jpg', '1437.jpg', '1472.jpg', '1527.jpg', '1438.jpg', '1473.jpg', '1439.jpg', '1528.jpg', '1474.jpg', '144.jpg', '1475.jpg', '1529.jpg', '1476.jpg', '1440.jpg', '153.jpg', '1441.jpg', '1477.jpg', '1530.jpg', '1478.jpg', '1442.jpg', '1531.jpg', '1479.jpg', '1443.jpg', '1532.jpg', '148.jpg', '1444.jpg', '1533.jpg', '1480.jpg', '1534.jpg', '1445.jpg', '1481.jpg', '1535.jpg', '1446.jpg', '1536.jpg', '1482.jpg', '1447.jpg', '1483.jpg', '1537.jpg', '1448.jpg', '1484.jpg', '1538.jpg', '1449.jpg', '1485.jpg', '1539.jpg', '145.jpg', '1486.jpg', '154.jpg', '1450.jpg', '1487.jpg', '1451.jpg', '1540.jpg', '1488.jpg', '1452.jpg', '1541.jpg', '1489.jpg', '1453.jpg', '1542.jpg', '149.jpg', '1454.jpg', '1543.jpg', '1490.jpg', '1455.jpg', '1544.jpg', '1491.jpg', '1456.jpg', '1545.jpg', '1492.jpg', '1457.jpg', '1546.jpg', '1493.jpg', '1458.jpg', '1547.jpg', '1494.jpg', '1459.jpg', '1548.jpg', '1495.jpg', '1575.jpg', '1549.jpg', '1496.jpg', '1576.jpg', '155.jpg', '1577.jpg', '1497.jpg', '1550.jpg', '1578.jpg', '1498.jpg', '1551.jpg', '1579.jpg', '1499.jpg', '1552.jpg', '158.jpg', '15.jpg', '1553.jpg', '1580.jpg', '150.jpg', '1554.jpg', '1500.jpg', '1581.jpg', '1555.jpg', '1501.jpg', '1582.jpg', '1556.jpg', '1502.jpg', '1583.jpg', '1503.jpg', '1557.jpg', '1584.jpg', '1504.jpg', '1558.jpg', '1585.jpg', '1505.jpg', '1559.jpg', '1586.jpg', '1506.jpg', '156.jpg', '1587.jpg', '1507.jpg', '1560.jpg', '1588.jpg', '1508.jpg', '1561.jpg', '1509.jpg', '1589.jpg', '1562.jpg', '151.jpg', '1563.jpg', '159.jpg', '1510.jpg', '1564.jpg', '1590.jpg', '1511.jpg', '1565.jpg', '1591.jpg', '1512.jpg', '1566.jpg', '1592.jpg', '1513.jpg', '1567.jpg', '1593.jpg', '1514.jpg', '1568.jpg', '1594.jpg', '1515.jpg', '1569.jpg', '1595.jpg', '1516.jpg', '157.jpg', '1596.jpg', '1632.jpg', '1570.jpg', '1597.jpg', '1571.jpg', '1633.jpg', '1598.jpg', '1572.jpg', '1634.jpg', '1599.jpg', '1573.jpg', '1635.jpg', '16.jpg', '1574.jpg', '1636.jpg', '160.jpg', '1690.jpg', '1637.jpg', '1600.jpg', '1691.jpg', '1638.jpg', '1601.jpg', '1692.jpg', '1639.jpg', '1602.jpg', '1693.jpg', '164.jpg', '1603.jpg', '1694.jpg', '1640.jpg', '1695.jpg', '1604.jpg', '1641.jpg', '1605.jpg', '1696.jpg', '1642.jpg', '1606.jpg', '1697.jpg', '1643.jpg', '1607.jpg', '1698.jpg', '1644.jpg', '1608.jpg', '1699.jpg', '1645.jpg', '1609.jpg', '17.jpg', '161.jpg', '1646.jpg', '170.jpg', '1647.jpg', '1610.jpg', '1700.jpg', '1648.jpg', '1611.jpg', '1701.jpg', '1649.jpg', '1612.jpg', '1702.jpg', '165.jpg', '1613.jpg', '1703.jpg', '1650.jpg', '1614.jpg', '1704.jpg', '1651.jpg', '1615.jpg', '1705.jpg', '1652.jpg', '1616.jpg', '1653.jpg', '1706.jpg', '1617.jpg', '1654.jpg', '1707.jpg', '1618.jpg', '1655.jpg', '1708.jpg', '1619.jpg', '1656.jpg', '1709.jpg', '162.jpg', '1657.jpg', '171.jpg', '1620.jpg', '1658.jpg', '1710.jpg', '1621.jpg', '1659.jpg', '1711.jpg', '1622.jpg', '166.jpg', '1712.jpg', '1623.jpg', '1660.jpg', '1713.jpg', '1624.jpg', '1661.jpg', '1714.jpg', '1625.jpg', '1662.jpg', '1626.jpg', '1715.jpg', '1663.jpg', '1627.jpg', '1664.jpg', '1716.jpg', '1665.jpg', '1628.jpg', '1717.jpg', '1666.jpg', '1629.jpg', '1718.jpg', '163.jpg', '1667.jpg', '1719.jpg', '1630.jpg', '1668.jpg', '172.jpg', '1669.jpg', '1631.jpg', '1720.jpg', '1748.jpg', '167.jpg', '1721.jpg', '1749.jpg', '1670.jpg', '1722.jpg', '175.jpg', '1671.jpg', '1723.jpg', '1750.jpg', '1672.jpg', '1724.jpg', '1751.jpg', '1673.jpg', '1674.jpg', '1752.jpg', '1725.jpg', '1675.jpg', '1726.jpg', '1753.jpg', '1676.jpg', '1727.jpg', '1754.jpg', '1677.jpg', '1728.jpg', '1755.jpg', '1756.jpg', '1678.jpg', '1729.jpg', '173.jpg', '1679.jpg', '1757.jpg', '1730.jpg', '168.jpg', '1758.jpg', '1680.jpg', '1731.jpg', '1759.jpg', '1732.jpg', '176.jpg', '1681.jpg', '1733.jpg', '1760.jpg', '1682.jpg', '1734.jpg', '1761.jpg', '1683.jpg', '1735.jpg', '1684.jpg', '1762.jpg', '1736.jpg', '1685.jpg', '1763.jpg', '1737.jpg', '1686.jpg', '1764.jpg', '1738.jpg', '1765.jpg', '1739.jpg', '1687.jpg', '174.jpg', '1766.jpg', '1688.jpg', '1740.jpg', '1767.jpg', '1689.jpg', '1741.jpg', '1768.jpg', '169.jpg', '1742.jpg', '1769.jpg', '1805.jpg', '1743.jpg', '177.jpg', '1806.jpg', '1744.jpg', '1770.jpg', '1807.jpg', '1745.jpg', '1808.jpg', '1771.jpg', '1746.jpg', '1809.jpg', '1772.jpg', '1747.jpg', '1773.jpg', '181.jpg', '1863.jpg', '1774.jpg', '1864.jpg', '1810.jpg', '1775.jpg', '1865.jpg', '1811.jpg', '1776.jpg', '1866.jpg', '1812.jpg', '1777.jpg', '1867.jpg', '1813.jpg', '1778.jpg', '1814.jpg', '1868.jpg', '1779.jpg', '1815.jpg', '1869.jpg', '178.jpg', '1816.jpg', '187.jpg', '1780.jpg', '1817.jpg', '1870.jpg', '1781.jpg', '1818.jpg', '1871.jpg', '1782.jpg', '1819.jpg', '1872.jpg', '1783.jpg', '182.jpg', '1873.jpg', '1784.jpg', '1820.jpg', '1874.jpg', '1785.jpg', '1821.jpg', '1875.jpg', '1786.jpg', '1822.jpg', '1876.jpg', '1787.jpg', '1823.jpg', '1877.jpg', '1788.jpg', '1824.jpg', '1878.jpg', '1789.jpg', '1825.jpg', '1879.jpg', '1826.jpg', '179.jpg', '188.jpg', '1827.jpg', '1790.jpg', '1880.jpg', '1828.jpg', '1791.jpg', '1881.jpg', '1829.jpg', '1792.jpg', '1882.jpg', '183.jpg', '1793.jpg', '1883.jpg', '1830.jpg', '1794.jpg', '1884.jpg', '1831.jpg', '1795.jpg', '1832.jpg', '1885.jpg', '1796.jpg', '1886.jpg', '1833.jpg', '1797.jpg', '1887.jpg', '1834.jpg', '1798.jpg', '1888.jpg', '1835.jpg', '1799.jpg', '1889.jpg', '1836.jpg', '18.jpg', '189.jpg', '1837.jpg', '180.jpg', '1890.jpg', '1800.jpg', '1838.jpg', '1891.jpg', '1839.jpg', '1801.jpg', '1892.jpg', '184.jpg', '1802.jpg', '1840.jpg', '1893.jpg', '1803.jpg', '1841.jpg', '1894.jpg', '1804.jpg', '1842.jpg', '1895.jpg', '1920.jpg', '1843.jpg', '1896.jpg', '1921.jpg', '1844.jpg', '1922.jpg', '1897.jpg', '1845.jpg', '1923.jpg', '1898.jpg', '1846.jpg', '1924.jpg', '1899.jpg', '1847.jpg', '1925.jpg', '19.jpg', '1848.jpg', '1926.jpg', '1849.jpg', '190.jpg', '1927.jpg', '185.jpg', '1900.jpg', '1928.jpg', '1850.jpg', '1901.jpg', '1929.jpg', '1851.jpg', '1902.jpg', '193.jpg', '1852.jpg', '1903.jpg', '1930.jpg', '1853.jpg', '1904.jpg', '1931.jpg', '1905.jpg', '1932.jpg', '1854.jpg', '1906.jpg', '1933.jpg', '1855.jpg', '1907.jpg', '1934.jpg', '1856.jpg', '1908.jpg', '1935.jpg', '1857.jpg', '1909.jpg', '1936.jpg', '1858.jpg', '191.jpg', '1937.jpg', '1859.jpg', '1910.jpg', '1938.jpg', '186.jpg', '1911.jpg', '1939.jpg', '1860.jpg', '194.jpg', '1861.jpg', '1912.jpg', '1913.jpg', '1940.jpg', '1862.jpg', '1914.jpg', '1941.jpg', '1979.jpg', '1915.jpg', '198.jpg', '1942.jpg', '1916.jpg', '1980.jpg', '1943.jpg', '1917.jpg', '1981.jpg', '1944.jpg', '1918.jpg', '1945.jpg', '1982.jpg', '1919.jpg', '1983.jpg', '1946.jpg', '192.jpg', '1947.jpg', '1984.jpg', '2035.jpg', '1948.jpg', '1985.jpg', '2036.jpg', '1949.jpg', '1986.jpg', '2037.jpg', '195.jpg', '1987.jpg', '2038.jpg', '1950.jpg', '1988.jpg', '2039.jpg', '1951.jpg', '1989.jpg', '204.jpg', '1952.jpg', '199.jpg', '2040.jpg', '1990.jpg', '1953.jpg', '2041.jpg', '1991.jpg', '1954.jpg', '2042.jpg', '1992.jpg', '1955.jpg', '2043.jpg', '1993.jpg', '1956.jpg', '2044.jpg', '1994.jpg', '1957.jpg', '2045.jpg', '1995.jpg', '1958.jpg', '2046.jpg', '1996.jpg', '1959.jpg', '2047.jpg', '1997.jpg', '196.jpg', '2048.jpg', '1998.jpg', '1960.jpg', '2049.jpg', '1999.jpg', '1961.jpg', '205.jpg', '2.jpg', '1962.jpg', '2050.jpg', '1963.jpg', '20.jpg', '2051.jpg', '1964.jpg', '200.jpg', '2052.jpg', '2000.jpg', '1965.jpg', '2053.jpg', '2001.jpg', '1966.jpg', '2054.jpg', '2002.jpg', '1967.jpg', '2055.jpg', '2003.jpg', '1968.jpg', '2056.jpg', '2004.jpg', '1969.jpg', '2057.jpg', '2005.jpg', '197.jpg', '2058.jpg', '2006.jpg', '1970.jpg', '2059.jpg', '2007.jpg', '1971.jpg', '206.jpg', '1972.jpg', '1973.jpg', '2060.jpg', '2008.jpg', '1974.jpg', '2061.jpg', '2009.jpg', '1975.jpg', '2062.jpg', '201.jpg', '1976.jpg', '2063.jpg', '2010.jpg', '1977.jpg', '2064.jpg', '2011.jpg', '1978.jpg', '2065.jpg', '2012.jpg', '2093.jpg', '2066.jpg', '2013.jpg', '2094.jpg', '2067.jpg', '2014.jpg', '2095.jpg', '2068.jpg', '2015.jpg', '2069.jpg', '2096.jpg', '2016.jpg', '2097.jpg', '207.jpg', '2017.jpg', '2098.jpg', '2070.jpg', '2018.jpg', '2099.jpg', '2071.jpg', '2019.jpg', '21.jpg', '202.jpg', '2072.jpg', '210.jpg', '2020.jpg', '2073.jpg', '2100.jpg', '2021.jpg', '2101.jpg', '2074.jpg', '2022.jpg', '2102.jpg', '2075.jpg', '2023.jpg', '2103.jpg', '2024.jpg', '2076.jpg', '2104.jpg', '2025.jpg', '2077.jpg', '2105.jpg', '2026.jpg', '2078.jpg', '2106.jpg', '2027.jpg', '2107.jpg', '2079.jpg', '2028.jpg', '2108.jpg', '208.jpg', '2029.jpg', '2109.jpg', '2080.jpg', '203.jpg', '211.jpg', '2081.jpg', '2030.jpg', '2110.jpg', '2082.jpg', '2031.jpg', '2111.jpg', '2083.jpg', '2032.jpg', '2112.jpg', '2084.jpg', '2113.jpg', '2033.jpg', '2085.jpg', '2034.jpg', '2114.jpg', '2086.jpg', '2150.jpg', '2115.jpg', '2087.jpg', '2151.jpg', '2116.jpg', '2088.jpg', '2152.jpg', '2117.jpg', '2089.jpg', '2153.jpg', '2118.jpg', '209.jpg', '2154.jpg', '2090.jpg', '2119.jpg', '2155.jpg', '2091.jpg', '2156.jpg', '212.jpg', '2092.jpg', '2157.jpg', '2120.jpg', '2208.jpg', '2121.jpg', '2158.jpg', '2209.jpg', '2122.jpg', '2159.jpg', '221.jpg', '2123.jpg', '216.jpg', '2210.jpg', '2124.jpg', '2160.jpg', '2211.jpg', '2125.jpg', '2161.jpg', '2212.jpg', '2126.jpg', '2162.jpg', '2127.jpg', '2213.jpg', '2163.jpg', '2128.jpg', '2214.jpg', '2164.jpg', '2215.jpg', '2129.jpg', '2165.jpg', '213.jpg', '2216.jpg', '2166.jpg', '2130.jpg', '2217.jpg', '2167.jpg', '2131.jpg', '2218.jpg', '2168.jpg', '2132.jpg', '2219.jpg', '2169.jpg', '2133.jpg', '222.jpg', '217.jpg', '2134.jpg', '2220.jpg', '2170.jpg', '2135.jpg', '2221.jpg', '2171.jpg', '2136.jpg', '2222.jpg', '2172.jpg', '2137.jpg', '2223.jpg', '2173.jpg', '2138.jpg', '2174.jpg', '2224.jpg', '2139.jpg', '2175.jpg', '214.jpg', '2225.jpg', '2176.jpg', '2140.jpg', '2177.jpg', '2141.jpg', '2226.jpg', '2178.jpg', '2227.jpg', '2142.jpg', '2179.jpg', '2143.jpg', '2228.jpg', '218.jpg', '529.jpg', '53.jpg', '530.jpg', '531.jpg', '532.jpg', '533.jpg', '534.jpg', '535.jpg', '536.jpg', '537.jpg', '538.jpg', '539.jpg', '54.jpg', '540.jpg', '541.jpg', '542.jpg', '543.jpg', '544.jpg', '545.jpg', '546.jpg', '547.jpg', '548.jpg', '549.jpg', '55.jpg', '550.jpg', '551.jpg', '552.jpg', '553.jpg', '554.jpg', '555.jpg', '556.jpg', '557.jpg', '558.jpg', '559.jpg', '56.jpg', '560.jpg', '561.jpg', '562.jpg', '563.jpg', '564.jpg', '565.jpg', '566.jpg', '567.jpg', '568.jpg', '569.jpg', '57.jpg', '570.jpg', '571.jpg', '572.jpg', '573.jpg', '574.jpg', '575.jpg', '576.jpg', '577.jpg', '578.jpg', '579.jpg', '58.jpg', '580.jpg', '581.jpg', '582.jpg', '583.jpg', '584.jpg', '585.jpg', '586.jpg', '587.jpg', '588.jpg', '589.jpg', '59.jpg', '590.jpg', '591.jpg', '592.jpg', '593.jpg', '594.jpg', '595.jpg', '596.jpg', '597.jpg', '598.jpg', '599.jpg', '6.jpg', '60.jpg', '600.jpg', '601.jpg', '602.jpg', '603.jpg', '604.jpg', '605.jpg', '606.jpg', '607.jpg', '608.jpg', '609.jpg', '61.jpg', '610.jpg', '611.jpg', '612.jpg', '613.jpg', '614.jpg', '615.jpg', '616.jpg', '617.jpg', '618.jpg', '619.jpg', '62.jpg', '620.jpg', '621.jpg', '622.jpg', '623.jpg', '624.jpg', '625.jpg', '626.jpg', '627.jpg', '628.jpg', '629.jpg', '63.jpg', '630.jpg', '631.jpg', '632.jpg', '633.jpg', '634.jpg', '635.jpg', '636.jpg', '637.jpg', '638.jpg', '639.jpg', '64.jpg', '640.jpg', '641.jpg', '642.jpg', '643.jpg', '644.jpg', '645.jpg', '646.jpg', '647.jpg', '648.jpg', '649.jpg', '65.jpg', '650.jpg', '651.jpg', '652.jpg', '653.jpg', '654.jpg', '655.jpg', '656.jpg', '657.jpg', '658.jpg', '659.jpg', '66.jpg', '660.jpg', '661.jpg', '662.jpg', '663.jpg', '664.jpg', '665.jpg', '666.jpg', '667.jpg', '668.jpg', '669.jpg', '67.jpg', '670.jpg', '671.jpg', '672.jpg', '673.jpg', '674.jpg', '675.jpg', '676.jpg', '677.jpg', '678.jpg', '679.jpg', '68.jpg', '680.jpg', '681.jpg', '682.jpg', '683.jpg', '684.jpg', '685.jpg', '686.jpg', '687.jpg', '688.jpg', '689.jpg', '69.jpg', '690.jpg', '691.jpg', '692.jpg', '693.jpg', '694.jpg', '695.jpg', '696.jpg', '697.jpg', '698.jpg', '699.jpg', '7.jpg', '70.jpg', '700.jpg', '701.jpg', '702.jpg', '703.jpg', '704.jpg', '705.jpg', '706.jpg', '707.jpg', '708.jpg', '709.jpg', '71.jpg', '710.jpg', '711.jpg', '712.jpg', '713.jpg', '714.jpg', '715.jpg', '716.jpg', '717.jpg', '718.jpg', '719.jpg', '72.jpg', '720.jpg', '721.jpg', '722.jpg', '723.jpg', '724.jpg', '725.jpg', '726.jpg', '727.jpg', '728.jpg', '729.jpg', '73.jpg', '730.jpg', '731.jpg', '732.jpg', '733.jpg', '734.jpg', '735.jpg', '736.jpg', '737.jpg', '738.jpg', '739.jpg', '74.jpg', '740.jpg', '741.jpg', '742.jpg', '743.jpg', '744.jpg', '745.jpg', '746.jpg', '747.jpg', '748.jpg', '749.jpg', '75.jpg', '750.jpg', '751.jpg', '752.jpg', '753.jpg', '754.jpg', '755.jpg', '756.jpg', '757.jpg', '758.jpg', '759.jpg', '76.jpg', '760.jpg', '761.jpg', '762.jpg', '763.jpg', '764.jpg', '765.jpg', '766.jpg', '767.jpg', '768.jpg', '769.jpg', '77.jpg', '770.jpg', '771.jpg', '772.jpg', '773.jpg', '774.jpg', '775.jpg', '776.jpg', '777.jpg', '778.jpg', '779.jpg', '78.jpg', '780.jpg', '781.jpg', '782.jpg', '783.jpg', '784.jpg', '785.jpg', '786.jpg', '787.jpg', '788.jpg', '789.jpg', '79.jpg', '790.jpg', '791.jpg', '792.jpg', '793.jpg', '794.jpg', '795.jpg', '796.jpg', '797.jpg', '798.jpg', '799.jpg', '8.jpg', '80.jpg', '800.jpg', '801.jpg', '802.jpg', '803.jpg', '804.jpg', '805.jpg', '806.jpg', '807.jpg', '808.jpg', '809.jpg', '81.jpg', '810.jpg', '811.jpg', '812.jpg', '813.jpg', '814.jpg', '815.jpg', '816.jpg', '817.jpg', '818.jpg', '819.jpg', '82.jpg', '820.jpg', '821.jpg', '822.jpg', '823.jpg', '824.jpg', '825.jpg', '826.jpg', '827.jpg', '828.jpg', '829.jpg', '83.jpg', '830.jpg', '831.jpg', '832.jpg', '833.jpg', '834.jpg', '835.jpg', '836.jpg', '837.jpg', '838.jpg', '839.jpg', '84.jpg', '840.jpg', '841.jpg', '842.jpg', '843.jpg', '844.jpg', '845.jpg', '846.jpg', '847.jpg', '848.jpg', '849.jpg', '85.jpg', '850.jpg', '851.jpg', '852.jpg', '853.jpg', '854.jpg', '855.jpg', '856.jpg', '857.jpg', '858.jpg', '859.jpg', '86.jpg', '860.jpg', '861.jpg', '862.jpg', '863.jpg', '864.jpg', '865.jpg', '866.jpg', '867.jpg', '868.jpg', '869.jpg', '87.jpg', '870.jpg', '871.jpg', '872.jpg', '873.jpg', '874.jpg', '875.jpg', '876.jpg', '877.jpg', '878.jpg', '879.jpg', '88.jpg', '880.jpg', '881.jpg', '882.jpg', '883.jpg', '884.jpg', '885.jpg', '886.jpg', '887.jpg', '888.jpg', '889.jpg', '89.jpg', '890.jpg', '891.jpg', '892.jpg', '893.jpg', '894.jpg', '895.jpg', '896.jpg', '897.jpg', '898.jpg', '899.jpg', '9.jpg', '90.jpg', '900.jpg', '901.jpg', '902.jpg', '903.jpg', '904.jpg', '905.jpg', '906.jpg', '907.jpg', '908.jpg', '909.jpg', '91.jpg', '910.jpg', '911.jpg', '912.jpg', '913.jpg', '914.jpg', '915.jpg', '916.jpg', '917.jpg', '918.jpg', '919.jpg', '92.jpg', '920.jpg', '921.jpg', '922.jpg', '923.jpg', '924.jpg', '925.jpg', '926.jpg', '927.jpg', '928.jpg', '929.jpg', '93.jpg', '930.jpg', '931.jpg', '932.jpg', '933.jpg', '934.jpg', '935.jpg', '936.jpg', '937.jpg', '938.jpg', '939.jpg', '94.jpg', '940.jpg', '941.jpg', '942.jpg', '943.jpg', '944.jpg', '945.jpg', '946.jpg', '947.jpg', '948.jpg', '949.jpg', '95.jpg', '950.jpg', '951.jpg', '952.jpg', '953.jpg', '954.jpg', '955.jpg', '956.jpg', '957.jpg', '958.jpg', '959.jpg', '96.jpg', '960.jpg', '961.jpg', '962.jpg', '963.jpg', '964.jpg', '965.jpg', '966.jpg', '967.jpg', '968.jpg', '969.jpg', '97.jpg', '970.jpg', '971.jpg', '972.jpg', '973.jpg', '974.jpg', '975.jpg', '976.jpg', '977.jpg', '978.jpg', '979.jpg', '98.jpg', '980.jpg', '981.jpg', '982.jpg', '983.jpg', '984.jpg', '985.jpg', '986.jpg', '987.jpg', '988.jpg', '989.jpg', '99.jpg', '990.jpg', '991.jpg', '992.jpg', '993.jpg', '994.jpg', '995.jpg', '996.jpg', '997.jpg', '998.jpg', '999.jpg', '485.jpg', '427.jpg', '486.jpg', '428.jpg', '489.jpg', '49.jpg', '369.jpg', '491.jpg', '378.jpg', '37.jpg', '492.jpg', '379.jpg', '370.jpg', '493.jpg', '373.jpg', '372.jpg', '376.jpg', '494.jpg', '374.jpg', '377.jpg', '495.jpg', '380.jpg', '38.jpg', '496.jpg', '381.jpg', '386.jpg', '497.jpg', '382.jpg', '387.jpg', '383.jpg', '498.jpg', '384.jpg', '388.jpg', '389.jpg', '39.jpg', '390.jpg', '391.jpg', '392.jpg', '394.jpg', '395.jpg', '396.jpg', '397.jpg', '398.jpg', '4.jpg', '400.jpg', '401.jpg', '40.jpg', '402.jpg', '403.jpg', '404.jpg', '405.jpg', '407.jpg', '408.jpg', '406.jpg', '41.jpg', '411.jpg', '409.jpg', '410.jpg', '412.jpg', '419.jpg', '415.jpg', '418.jpg', '421.jpg', '423.jpg', '429.jpg', '424.jpg', '43.jpg', '431.jpg', '435.jpg', '430.jpg', '432.jpg', '436.jpg', '433.jpg', '437.jpg', '434.jpg', '439.jpg', '438.jpg', '44.jpg', '445.jpg', '440.jpg', '446.jpg', '441.jpg', '447.jpg', '442.jpg', '458.jpg', '448.jpg', '443.jpg', '459.jpg', '449.jpg', '46.jpg', '444.jpg', '45.jpg', '451.jpg', '457.jpg', '450.jpg', '455.jpg', '460.jpg', '453.jpg', '461.jpg', '454.jpg', '462.jpg', '467.jpg', '499.jpg', '468.jpg', '463.jpg', '5.jpg', '469.jpg', '464.jpg', '479.jpg', '48.jpg', '465.jpg', '47.jpg', '480.jpg', '481.jpg', '466.jpg', '503.jpg', '470.jpg', '50.jpg', '473.jpg', '504.jpg', '500.jpg', '501.jpg', '510.jpg', '505.jpg', '502.jpg', '511.jpg', '506.jpg', '512.jpg', '507.jpg', '513.jpg', '516.jpg', '508.jpg', '514.jpg', '517.jpg', '509.jpg', '515.jpg', '518.jpg', '51.jpg', '519.jpg', '52.jpg', '520.jpg', '524.jpg', '525.jpg', '521.jpg', '522.jpg', '526.jpg', '523.jpg', '527.jpg', '528.jpg', '1028.jpg', '1029.jpg', '103.jpg', '1030.jpg', '1031.jpg', '1032.jpg', '1033.jpg', '1034.jpg', '1035.jpg', '1036.jpg', '1037.jpg', '1038.jpg', '1.jpg', '1039.jpg', '10.jpg', '104.jpg', '1040.jpg', '100.jpg', '1041.jpg', '1000.jpg', '1001.jpg', '1042.jpg', '1002.jpg', '1043.jpg', '1003.jpg', '1044.jpg', '1004.jpg', '1045.jpg', '1046.jpg', '1005.jpg', '1047.jpg', '1006.jpg', '1048.jpg', '1007.jpg', '1049.jpg', '1008.jpg', '105.jpg', '1009.jpg', '1050.jpg', '101.jpg', '1051.jpg', '1010.jpg', '1052.jpg', '1011.jpg', '1053.jpg', '1012.jpg', '1013.jpg', '1054.jpg', '1014.jpg', '1055.jpg', '1015.jpg', '1056.jpg', '1016.jpg', '1057.jpg', '1017.jpg', '1058.jpg', '1018.jpg', '1059.jpg', '1019.jpg', '106.jpg', '102.jpg', '1060.jpg', '1020.jpg', '1061.jpg', '1071.jpg', '1021.jpg', '1062.jpg', '1072.jpg', '1022.jpg', '1063.jpg', '1073.jpg', '1023.jpg', '1064.jpg', '1074.jpg', '1024.jpg', '1065.jpg', '1075.jpg', '1025.jpg', '1066.jpg', '1076.jpg', '1026.jpg', '1067.jpg', '1077.jpg', '1027.jpg', '1068.jpg', '1078.jpg', '1114.jpg', '1069.jpg', '1079.jpg', '1115.jpg', '107.jpg', '108.jpg', '1116.jpg', '1070.jpg', '1080.jpg', '1117.jpg', '1172.jpg', '1081.jpg', '1118.jpg', '1173.jpg', '1082.jpg', '1174.jpg', '1119.jpg', '1083.jpg', '1175.jpg', '112.jpg', '1084.jpg', '1176.jpg', '1120.jpg', '1085.jpg', '1177.jpg', '1086.jpg', '1121.jpg', '1087.jpg', '1178.jpg', '1122.jpg', '1179.jpg', '1088.jpg', '1123.jpg', '118.jpg', '1089.jpg', '1124.jpg', '1180.jpg', '109.jpg', '1125.jpg', '1090.jpg', '1126.jpg', '1181.jpg', '1091.jpg', '1127.jpg', '1182.jpg', '1092.jpg', '1183.jpg', '1128.jpg', '1093.jpg', '1129.jpg', '1184.jpg', '1094.jpg', '113.jpg', '1185.jpg', '1095.jpg', '1130.jpg', '1186.jpg', '1131.jpg', '1096.jpg', '1187.jpg', '1097.jpg', '1188.jpg', '1098.jpg', '1132.jpg', '1189.jpg', '1099.jpg', '1133.jpg', '119.jpg', '11.jpg', '1134.jpg', '1190.jpg', '110.jpg', '1135.jpg', '1191.jpg', '1100.jpg', '1136.jpg', '1192.jpg', '1101.jpg', '1137.jpg', '1193.jpg', '1102.jpg', '1138.jpg', '1194.jpg', '1103.jpg', '1139.jpg', '1104.jpg', '1195.jpg', '114.jpg', '1105.jpg', '1196.jpg', '1140.jpg', '1106.jpg', '1197.jpg', '1141.jpg', '1107.jpg', '1198.jpg', '1142.jpg', '1108.jpg', '1199.jpg', '1143.jpg', '1109.jpg', '12.jpg', '1144.jpg', '111.jpg', '120.jpg', '1145.jpg', '1200.jpg', '1110.jpg', '1146.jpg', '1201.jpg', '1111.jpg', '1147.jpg', '1202.jpg', '1112.jpg', '1148.jpg', '1203.jpg', '1113.jpg', '1149.jpg', '123.jpg', '1204.jpg', '115.jpg', '1205.jpg', '1230.jpg', '1150.jpg', '1206.jpg', '1231.jpg', '1151.jpg', '1207.jpg', '1152.jpg', '1232.jpg', '1153.jpg', '1233.jpg', '1208.jpg', '1154.jpg', '1234.jpg', '1209.jpg', '1155.jpg', '1235.jpg', '121.jpg', '1156.jpg', '1236.jpg', '1210.jpg', '1157.jpg', '1237.jpg', '1211.jpg', '1158.jpg', '1238.jpg', '1212.jpg', '1159.jpg', '1239.jpg', '116.jpg', '124.jpg', '1160.jpg', '1213.jpg', '1240.jpg', '1161.jpg', '1214.jpg', '1241.jpg', '1162.jpg', '1215.jpg', '1242.jpg', '1163.jpg', '1216.jpg', '1243.jpg', '1164.jpg', '1217.jpg', '1244.jpg', '1165.jpg', '1218.jpg', '1245.jpg', '1166.jpg', '1219.jpg', '1246.jpg', '1167.jpg', '122.jpg', '1247.jpg', '1220.jpg', '1168.jpg', '1248.jpg', '1221.jpg', '1249.jpg', '1169.jpg', '1222.jpg', '125.jpg', '117.jpg', '1223.jpg', '1250.jpg', '1170.jpg', '1224.jpg', '1251.jpg', '1171.jpg', '1225.jpg', '1252.jpg', '1226.jpg', '1288.jpg', '1253.jpg', '1289.jpg', '1227.jpg', '1254.jpg', '129.jpg', '1228.jpg', '1255.jpg', '1229.jpg', '1290.jpg', '1256.jpg', '1291.jpg', '1344.jpg', '1257.jpg', '1292.jpg', '1345.jpg', '1258.jpg', '1293.jpg', '1346.jpg', '1259.jpg', '1294.jpg', '1347.jpg', '126.jpg', '1295.jpg', '1348.jpg', '1260.jpg', '1296.jpg', '1349.jpg', '1261.jpg', '135.jpg', '1262.jpg', '1297.jpg', '1350.jpg', '1298.jpg', '1263.jpg', '1351.jpg', '1299.jpg', '1264.jpg', '1352.jpg', '1265.jpg', '13.jpg', '1353.jpg', '1266.jpg', '130.jpg', '1354.jpg', '1267.jpg', '1355.jpg', '1300.jpg', '1268.jpg', '2144.jpg', '2145.jpg', '2146.jpg', '2147.jpg', '2148.jpg', '2149.jpg', '215.jpg', '2180.jpg', '2181.jpg', '2182.jpg', '2183.jpg', '2184.jpg', '2185.jpg', '2186.jpg', '2187.jpg', '2188.jpg', '2189.jpg', '219.jpg', '2190.jpg', '2191.jpg', '2192.jpg', '2193.jpg', '2194.jpg', '2195.jpg', '2196.jpg', '2197.jpg', '2198.jpg', '2199.jpg', '22.jpg', '220.jpg', '2200.jpg', '2201.jpg', '2202.jpg', '2203.jpg', '2204.jpg', '2205.jpg', '2206.jpg', '2207.jpg', '2229.jpg', '223.jpg', '2230.jpg', '2231.jpg', '2232.jpg', '2233.jpg', '2234.jpg', '2235.jpg', '2236.jpg', '2237.jpg', '2238.jpg', '2239.jpg', '224.jpg', '2240.jpg', '2241.jpg', '2242.jpg', '2243.jpg', '2244.jpg', '2245.jpg', '2246.jpg', '2247.jpg', '2248.jpg', '2249.jpg', '225.jpg', '2250.jpg', '2251.jpg', '2252.jpg', '2253.jpg', '2254.jpg', '2255.jpg', '2256.jpg', '2257.jpg', '2258.jpg', '2259.jpg', '226.jpg', '2260.jpg', '2261.jpg', '2262.jpg', '2263.jpg', '2264.jpg', '2265.jpg', '2266.jpg', '2267.jpg', '2268.jpg', '2269.jpg', '227.jpg', '2270.jpg', '2271.jpg', '2272.jpg', '2273.jpg', '2274.jpg', '2275.jpg', '2276.jpg', '2277.jpg', '2278.jpg', '2279.jpg', '228.jpg', '2280.jpg', '2281.jpg', '2282.jpg', '2283.jpg', '2284.jpg', '2285.jpg', '2286.jpg', '2287.jpg', '2288.jpg', '2289.jpg', '229.jpg', '2290.jpg', '2291.jpg', '2292.jpg', '2293.jpg', '2294.jpg', '2295.jpg', '2296.jpg', '2297.jpg', '2298.jpg', '2299.jpg', '23.jpg', '230.jpg', '2300.jpg', '2301.jpg', '2302.jpg', '2303.jpg', '2304.jpg', '2305.jpg', '2306.jpg', '2307.jpg', '2308.jpg', '2309.jpg', '231.jpg', '2310.jpg', '2311.jpg', '2312.jpg', '2313.jpg', '2314.jpg', '2315.jpg', '2316.jpg', '2317.jpg', '2318.jpg', '2319.jpg', '232.jpg', '2320.jpg', '2321.jpg', '2322.jpg', '2323.jpg', '2324.jpg', '2325.jpg', '2326.jpg', '2327.jpg', '2328.jpg', '2329.jpg', '233.jpg', '2330.jpg', '2331.jpg', '2332.jpg', '2333.jpg', '2334.jpg', '2335.jpg', '2336.jpg', '2337.jpg', '2338.jpg', '2339.jpg', '234.jpg', '2340.jpg', '2341.jpg', '2342.jpg', '2343.jpg', '2344.jpg', '2345.jpg', '2346.jpg', '2347.jpg', '2348.jpg', '2349.jpg', '235.jpg', '2350.jpg', '2351.jpg', '2352.jpg', '2353.jpg', '2354.jpg', '2355.jpg', '2356.jpg', '2357.jpg', '2358.jpg', '2359.jpg', '236.jpg', '2360.jpg', '2361.jpg', '2362.jpg', '2363.jpg', '2364.jpg', '2365.jpg', '2366.jpg', '2367.jpg', '2368.jpg', '2369.jpg', '237.jpg', '2370.jpg', '2371.jpg', '2372.jpg', '2373.jpg', '2374.jpg', '2375.jpg', '2376.jpg', '2377.jpg', '2378.jpg', '2379.jpg', '238.jpg', '2380.jpg', '2381.jpg', '2382.jpg', '2383.jpg', '2384.jpg', '2385.jpg', '2386.jpg', '2387.jpg', '2388.jpg', '2389.jpg', '239.jpg', '2390.jpg', '2391.jpg', '2392.jpg', '2393.jpg', '2394.jpg', '2395.jpg', '2396.jpg', '2397.jpg', '2398.jpg', '2399.jpg', '24.jpg', '240.jpg', '2400.jpg', '241.jpg', '242.jpg', '243.jpg', '244.jpg', '245.jpg', '246.jpg', '247.jpg', '248.jpg', '249.jpg', '25.jpg', '250.jpg', '251.jpg', '252.jpg', '253.jpg', '254.jpg', '255.jpg', '256.jpg', '257.jpg', '258.jpg', '259.jpg', '26.jpg', '260.jpg', '261.jpg', '262.jpg', '263.jpg', '264.jpg', '265.jpg', '266.jpg', '267.jpg', '268.jpg', '269.jpg', '27.jpg', '270.jpg', '271.jpg', '272.jpg', '273.jpg', '274.jpg', '275.jpg', '276.jpg', '277.jpg', '278.jpg', '279.jpg', '28.jpg', '280.jpg', '281.jpg', '282.jpg', '283.jpg', '284.jpg', '285.jpg', '286.jpg', '287.jpg', '288.jpg', '289.jpg', '29.jpg', '290.jpg', '291.jpg', '292.jpg', '293.jpg', '294.jpg', '295.jpg', '296.jpg', '297.jpg', '298.jpg', '299.jpg', '3.jpg', '30.jpg', '300.jpg', '301.jpg', '302.jpg', '303.jpg', '304.jpg', '305.jpg', '306.jpg', '307.jpg', '308.jpg', '309.jpg', '31.jpg', '310.jpg', '311.jpg', '312.jpg', '313.jpg', '314.jpg', '315.jpg', '316.jpg', '317.jpg', '318.jpg', '319.jpg', '32.jpg', '320.jpg', '321.jpg', '322.jpg', '323.jpg', '324.jpg', '325.jpg', '326.jpg', '327.jpg', '328.jpg', '329.jpg', '33.jpg', '330.jpg', '331.jpg', '332.jpg', '333.jpg', '334.jpg', '335.jpg', '336.jpg', '337.jpg', '338.jpg', '339.jpg', '34.jpg', '340.jpg', '341.jpg', '342.jpg', '343.jpg', '344.jpg', '345.jpg', '346.jpg', '347.jpg', '348.jpg', '349.jpg', '35.jpg', '350.jpg', '351.jpg', '352.jpg', '353.jpg', '354.jpg', '355.jpg', '356.jpg', '357.jpg', '358.jpg', '359.jpg', '36.jpg', '360.jpg', '361.jpg', '362.jpg', '363.jpg', '364.jpg', '365.jpg', '366.jpg', '367.jpg', '368.jpg', '371.jpg', '375.jpg', '385.jpg', '393.jpg', '399.jpg', '413.jpg', '414.jpg', '416.jpg', '417.jpg', '42.jpg', '420.jpg', '422.jpg', '425.jpg', '426.jpg', '452.jpg', '456.jpg', '471.jpg', '472.jpg', '474.jpg', '475.jpg', '476.jpg', '477.jpg', '478.jpg', '482.jpg', '483.jpg', '484.jpg', '487.jpg', '488.jpg', '490.jpg']\n",
            "2400\n"
          ],
          "name": "stdout"
        }
      ]
    },
    {
      "cell_type": "code",
      "metadata": {
        "id": "y1FzoE5SuTnt",
        "colab_type": "code",
        "colab": {}
      },
      "source": [
        ""
      ],
      "execution_count": 0,
      "outputs": []
    },
    {
      "cell_type": "markdown",
      "metadata": {
        "id": "8tw6gZIVuTny",
        "colab_type": "text"
      },
      "source": [
        "<font color=blue><b>3-Sort them and read them </b></font>"
      ]
    },
    {
      "cell_type": "code",
      "metadata": {
        "id": "XOxyg1QNuTn3",
        "colab_type": "code",
        "colab": {
          "base_uri": "https://localhost:8080/",
          "height": 282
        },
        "outputId": "d5b1338f-c90f-491b-802f-05619152a186"
      },
      "source": [
        "%matplotlib inline\n",
        "Images1=sorted(Images, key=lambda t: int(os.path.splitext(t)[0])) # sort them ascendingly \n",
        "ImagF=np.zeros((2400,784))  # All Images\n",
        "for i in range(len(Images1)):\n",
        "    ImagF1=imageio.imread(path + Images1[i])\n",
        "    ImagF[i,:]=ImagF1.reshape((1,784))\n",
        "plt.imshow(ImagF1.reshape(28,28)) #To Display it"
      ],
      "execution_count": 5,
      "outputs": [
        {
          "output_type": "execute_result",
          "data": {
            "text/plain": [
              "<matplotlib.image.AxesImage at 0x7f53b5f893c8>"
            ]
          },
          "metadata": {
            "tags": []
          },
          "execution_count": 5
        },
        {
          "output_type": "display_data",
          "data": {
            "image/png": "[encoded data removed]",
            "text/plain": [
              "<Figure size 432x288 with 1 Axes>"
            ]
          },
          "metadata": {
            "tags": []
          }
        }
      ]
    },
    {
      "cell_type": "code",
      "metadata": {
        "id": "pPEngorh7jpo",
        "colab_type": "code",
        "outputId": "49e59d05-2327-402b-95e6-0eaa19df4b09",
        "colab": {
          "base_uri": "https://localhost:8080/",
          "height": 136
        }
      },
      "source": [
        "ImagF"
      ],
      "execution_count": 9,
      "outputs": [
        {
          "output_type": "execute_result",
          "data": {
            "text/plain": [
              "array([[0., 0., 0., ..., 0., 0., 0.],\n",
              "       [0., 0., 0., ..., 0., 0., 0.],\n",
              "       [0., 0., 0., ..., 0., 0., 0.],\n",
              "       ...,\n",
              "       [0., 0., 0., ..., 0., 0., 0.],\n",
              "       [0., 0., 0., ..., 0., 0., 0.],\n",
              "       [0., 0., 0., ..., 0., 0., 0.]])"
            ]
          },
          "metadata": {
            "tags": []
          },
          "execution_count": 9
        }
      ]
    },
    {
      "cell_type": "markdown",
      "metadata": {
        "id": "-j4FHOIouToC",
        "colab_type": "text"
      },
      "source": [
        "the whole data is 2400 and we have 10 classes so every class should have 240 row."
      ]
    },
    {
      "cell_type": "markdown",
      "metadata": {
        "id": "EF-GgR1QuToE",
        "colab_type": "text"
      },
      "source": [
        "<font color=blue ><b>4-Training Phase (Weights) </b></font> "
      ]
    },
    {
      "cell_type": "code",
      "metadata": {
        "id": "-hN4geOSuToG",
        "colab_type": "code",
        "colab": {}
      },
      "source": [
        "def m1(c1):\n",
        "    #Calculate mean of the intended class \n",
        "    #intended class is matix 240*784\n",
        "    m1 = np.sum(c1, axis=0) / 240\n",
        "    \n",
        "    return m1\n",
        "def m2(c2):\n",
        "    #Calculate mean of the other classes\n",
        "    m2 = np.sum(c2, axis=0) /2160\n",
        "    return m2"
      ],
      "execution_count": 0,
      "outputs": []
    },
    {
      "cell_type": "code",
      "metadata": {
        "id": "_Ex-7SVXuToL",
        "colab_type": "code",
        "outputId": "17b90394-96b4-45c1-c4f4-56d098424854",
        "colab": {
          "base_uri": "https://localhost:8080/",
          "height": 34
        }
      },
      "source": [
        "b = np.ones((5,5))\n",
        "l = []\n",
        "for i in range(len(b)):\n",
        "    l.append(b[i,:]@ b[i,:].T)\n",
        "print(l)    "
      ],
      "execution_count": 11,
      "outputs": [
        {
          "output_type": "stream",
          "text": [
            "[5.0, 5.0, 5.0, 5.0, 5.0]\n"
          ],
          "name": "stdout"
        }
      ]
    },
    {
      "cell_type": "code",
      "metadata": {
        "id": "dAIXD1lWuToR",
        "colab_type": "code",
        "colab": {}
      },
      "source": [
        "def S1(c1,m1):\n",
        "    # Calculate First Term of SW\n",
        "    s1_1 = c1 - m1\n",
        "    #print('chape of c1- m1' + str(s1_1.shape))\n",
        "    s_l =[]\n",
        "    for i in range(len(s1_1)):\n",
        "        s_l.append(s1_1[i,:].reshape(784,1)@ s1_1[i,:].reshape(784,1).T)\n",
        "    S1_t = sum(s_l)    \n",
        "        \n",
        "    return S1_t \n",
        "def S2(c2,m2):\n",
        "    #Calculate Second Term of SW\n",
        "    s2_2 = c2 - m2\n",
        "    s_2 =[]\n",
        "    for i in range(len(s2_2)):\n",
        "        s_2.append(s2_2[i,:].reshape(784,1)@ s2_2[i,:].reshape(784,1).T)\n",
        "    S2_t = sum(s_2)  \n",
        "    \n",
        "    return S2_t"
      ],
      "execution_count": 0,
      "outputs": []
    },
    {
      "cell_type": "code",
      "metadata": {
        "id": "fzyY7Zh0uToW",
        "colab_type": "code",
        "outputId": "4ad8760b-5781-4824-fb72-a03e129bd98b",
        "colab": {
          "base_uri": "https://localhost:8080/",
          "height": 1000
        }
      },
      "source": [
        "Images1"
      ],
      "execution_count": 0,
      "outputs": [
        {
          "output_type": "execute_result",
          "data": {
            "text/plain": [
              "['1.jpg',\n",
              " '10.jpg',\n",
              " '11.jpg',\n",
              " '12.jpg',\n",
              " '13.jpg',\n",
              " '14.jpg',\n",
              " '100.jpg',\n",
              " '101.jpg',\n",
              " '102.jpg',\n",
              " '103.jpg',\n",
              " '104.jpg',\n",
              " '105.jpg',\n",
              " '106.jpg',\n",
              " '107.jpg',\n",
              " '108.jpg',\n",
              " '109.jpg',\n",
              " '110.jpg',\n",
              " '111.jpg',\n",
              " '112.jpg',\n",
              " '113.jpg',\n",
              " '114.jpg',\n",
              " '115.jpg',\n",
              " '116.jpg',\n",
              " '117.jpg',\n",
              " '118.jpg',\n",
              " '119.jpg',\n",
              " '120.jpg',\n",
              " '121.jpg',\n",
              " '122.jpg',\n",
              " '123.jpg',\n",
              " '124.jpg',\n",
              " '125.jpg',\n",
              " '126.jpg',\n",
              " '127.jpg',\n",
              " '128.jpg',\n",
              " '129.jpg',\n",
              " '130.jpg',\n",
              " '131.jpg',\n",
              " '132.jpg',\n",
              " '133.jpg',\n",
              " '134.jpg',\n",
              " '135.jpg',\n",
              " '136.jpg',\n",
              " '137.jpg',\n",
              " '138.jpg',\n",
              " '139.jpg',\n",
              " '140.jpg',\n",
              " '141.jpg',\n",
              " '142.jpg',\n",
              " '143.jpg',\n",
              " '144.jpg',\n",
              " '1000.jpg',\n",
              " '1001.jpg',\n",
              " '1002.jpg',\n",
              " '1003.jpg',\n",
              " '1004.jpg',\n",
              " '1005.jpg',\n",
              " '1006.jpg',\n",
              " '1007.jpg',\n",
              " '1008.jpg',\n",
              " '1009.jpg',\n",
              " '1010.jpg',\n",
              " '1011.jpg',\n",
              " '1012.jpg',\n",
              " '1013.jpg',\n",
              " '1014.jpg',\n",
              " '1015.jpg',\n",
              " '1016.jpg',\n",
              " '1017.jpg',\n",
              " '1018.jpg',\n",
              " '1019.jpg',\n",
              " '1020.jpg',\n",
              " '1021.jpg',\n",
              " '1022.jpg',\n",
              " '1023.jpg',\n",
              " '1024.jpg',\n",
              " '1025.jpg',\n",
              " '1026.jpg',\n",
              " '1027.jpg',\n",
              " '1028.jpg',\n",
              " '1029.jpg',\n",
              " '1030.jpg',\n",
              " '1031.jpg',\n",
              " '1032.jpg',\n",
              " '1033.jpg',\n",
              " '1034.jpg',\n",
              " '1035.jpg',\n",
              " '1036.jpg',\n",
              " '1037.jpg',\n",
              " '1038.jpg',\n",
              " '1039.jpg',\n",
              " '1040.jpg',\n",
              " '1041.jpg',\n",
              " '1042.jpg',\n",
              " '1043.jpg',\n",
              " '1044.jpg',\n",
              " '1045.jpg',\n",
              " '1046.jpg',\n",
              " '1047.jpg',\n",
              " '1048.jpg',\n",
              " '1049.jpg',\n",
              " '1050.jpg',\n",
              " '1051.jpg',\n",
              " '1052.jpg',\n",
              " '1053.jpg',\n",
              " '1054.jpg',\n",
              " '1055.jpg',\n",
              " '1056.jpg',\n",
              " '1057.jpg',\n",
              " '1058.jpg',\n",
              " '1059.jpg',\n",
              " '1060.jpg',\n",
              " '1061.jpg',\n",
              " '1062.jpg',\n",
              " '1063.jpg',\n",
              " '1064.jpg',\n",
              " '1065.jpg',\n",
              " '1066.jpg',\n",
              " '1067.jpg',\n",
              " '1068.jpg',\n",
              " '1069.jpg',\n",
              " '1070.jpg',\n",
              " '1071.jpg',\n",
              " '1072.jpg',\n",
              " '1073.jpg',\n",
              " '1074.jpg',\n",
              " '1075.jpg',\n",
              " '1076.jpg',\n",
              " '1077.jpg',\n",
              " '1078.jpg',\n",
              " '1079.jpg',\n",
              " '1080.jpg',\n",
              " '1081.jpg',\n",
              " '1082.jpg',\n",
              " '1083.jpg',\n",
              " '1084.jpg',\n",
              " '1085.jpg',\n",
              " '1086.jpg',\n",
              " '1087.jpg',\n",
              " '1088.jpg',\n",
              " '1089.jpg',\n",
              " '1090.jpg',\n",
              " '1091.jpg',\n",
              " '1092.jpg',\n",
              " '1093.jpg',\n",
              " '1094.jpg',\n",
              " '1095.jpg',\n",
              " '1096.jpg',\n",
              " '1097.jpg',\n",
              " '1098.jpg',\n",
              " '1099.jpg',\n",
              " '1100.jpg',\n",
              " '1101.jpg',\n",
              " '1102.jpg',\n",
              " '1103.jpg',\n",
              " '1104.jpg',\n",
              " '1105.jpg',\n",
              " '1106.jpg',\n",
              " '1107.jpg',\n",
              " '1108.jpg',\n",
              " '1109.jpg',\n",
              " '1110.jpg',\n",
              " '1111.jpg',\n",
              " '1112.jpg',\n",
              " '1113.jpg',\n",
              " '1114.jpg',\n",
              " '1115.jpg',\n",
              " '1116.jpg',\n",
              " '1117.jpg',\n",
              " '1118.jpg',\n",
              " '1119.jpg',\n",
              " '1120.jpg',\n",
              " '1121.jpg',\n",
              " '1122.jpg',\n",
              " '1123.jpg',\n",
              " '1124.jpg',\n",
              " '1125.jpg',\n",
              " '1126.jpg',\n",
              " '1127.jpg',\n",
              " '1128.jpg',\n",
              " '1129.jpg',\n",
              " '1130.jpg',\n",
              " '1131.jpg',\n",
              " '1132.jpg',\n",
              " '1133.jpg',\n",
              " '1134.jpg',\n",
              " '1135.jpg',\n",
              " '1136.jpg',\n",
              " '1137.jpg',\n",
              " '1138.jpg',\n",
              " '1139.jpg',\n",
              " '1140.jpg',\n",
              " '1141.jpg',\n",
              " '1142.jpg',\n",
              " '1143.jpg',\n",
              " '1144.jpg',\n",
              " '1145.jpg',\n",
              " '1146.jpg',\n",
              " '1147.jpg',\n",
              " '1148.jpg',\n",
              " '1149.jpg',\n",
              " '1150.jpg',\n",
              " '1151.jpg',\n",
              " '1152.jpg',\n",
              " '1153.jpg',\n",
              " '1154.jpg',\n",
              " '1155.jpg',\n",
              " '1156.jpg',\n",
              " '1157.jpg',\n",
              " '1158.jpg',\n",
              " '1159.jpg',\n",
              " '1160.jpg',\n",
              " '1161.jpg',\n",
              " '1162.jpg',\n",
              " '1163.jpg',\n",
              " '1164.jpg',\n",
              " '1165.jpg',\n",
              " '1166.jpg',\n",
              " '1167.jpg',\n",
              " '1168.jpg',\n",
              " '1169.jpg',\n",
              " '1170.jpg',\n",
              " '1171.jpg',\n",
              " '1172.jpg',\n",
              " '1173.jpg',\n",
              " '1174.jpg',\n",
              " '1175.jpg',\n",
              " '1176.jpg',\n",
              " '1177.jpg',\n",
              " '1178.jpg',\n",
              " '1179.jpg',\n",
              " '1180.jpg',\n",
              " '1181.jpg',\n",
              " '1182.jpg',\n",
              " '1183.jpg',\n",
              " '1184.jpg',\n",
              " '1185.jpg',\n",
              " '1186.jpg',\n",
              " '1187.jpg',\n",
              " '1188.jpg',\n",
              " '1189.jpg',\n",
              " '1190.jpg',\n",
              " '1191.jpg',\n",
              " '1192.jpg',\n",
              " '1193.jpg',\n",
              " '1194.jpg',\n",
              " '1195.jpg',\n",
              " '1196.jpg',\n",
              " '1197.jpg',\n",
              " '1198.jpg',\n",
              " '1199.jpg',\n",
              " '1200.jpg',\n",
              " '1201.jpg',\n",
              " '1202.jpg',\n",
              " '1203.jpg',\n",
              " '1204.jpg',\n",
              " '1205.jpg',\n",
              " '1206.jpg',\n",
              " '1207.jpg',\n",
              " '1208.jpg',\n",
              " '1209.jpg',\n",
              " '1210.jpg',\n",
              " '1211.jpg',\n",
              " '1212.jpg',\n",
              " '1213.jpg',\n",
              " '1214.jpg',\n",
              " '1215.jpg',\n",
              " '1216.jpg',\n",
              " '1217.jpg',\n",
              " '1218.jpg',\n",
              " '1219.jpg',\n",
              " '1220.jpg',\n",
              " '1221.jpg',\n",
              " '1222.jpg',\n",
              " '1223.jpg',\n",
              " '1224.jpg',\n",
              " '1225.jpg',\n",
              " '1226.jpg',\n",
              " '1227.jpg',\n",
              " '1228.jpg',\n",
              " '1229.jpg',\n",
              " '1230.jpg',\n",
              " '1231.jpg',\n",
              " '1232.jpg',\n",
              " '1233.jpg',\n",
              " '1234.jpg',\n",
              " '1235.jpg',\n",
              " '1236.jpg',\n",
              " '1237.jpg',\n",
              " '1238.jpg',\n",
              " '1239.jpg',\n",
              " '1240.jpg',\n",
              " '1241.jpg',\n",
              " '1242.jpg',\n",
              " '1243.jpg',\n",
              " '1244.jpg',\n",
              " '1245.jpg',\n",
              " '1246.jpg',\n",
              " '1247.jpg',\n",
              " '1248.jpg',\n",
              " '1249.jpg',\n",
              " '1250.jpg',\n",
              " '1251.jpg',\n",
              " '1252.jpg',\n",
              " '1253.jpg',\n",
              " '1254.jpg',\n",
              " '1255.jpg',\n",
              " '1256.jpg',\n",
              " '1257.jpg',\n",
              " '1258.jpg',\n",
              " '1259.jpg',\n",
              " '1260.jpg',\n",
              " '1261.jpg',\n",
              " '1262.jpg',\n",
              " '1263.jpg',\n",
              " '1264.jpg',\n",
              " '1265.jpg',\n",
              " '1266.jpg',\n",
              " '1267.jpg',\n",
              " '1268.jpg',\n",
              " '1269.jpg',\n",
              " '1270.jpg',\n",
              " '1271.jpg',\n",
              " '1272.jpg',\n",
              " '1273.jpg',\n",
              " '1274.jpg',\n",
              " '1275.jpg',\n",
              " '1276.jpg',\n",
              " '1277.jpg',\n",
              " '1278.jpg',\n",
              " '1279.jpg',\n",
              " '1280.jpg',\n",
              " '1281.jpg',\n",
              " '1282.jpg',\n",
              " '1283.jpg',\n",
              " '1284.jpg',\n",
              " '1285.jpg',\n",
              " '1286.jpg',\n",
              " '1287.jpg',\n",
              " '1288.jpg',\n",
              " '1289.jpg',\n",
              " '1290.jpg',\n",
              " '1291.jpg',\n",
              " '1292.jpg',\n",
              " '1293.jpg',\n",
              " '1294.jpg',\n",
              " '1295.jpg',\n",
              " '1296.jpg',\n",
              " '1297.jpg',\n",
              " '1298.jpg',\n",
              " '1299.jpg',\n",
              " '1300.jpg',\n",
              " '1301.jpg',\n",
              " '1302.jpg',\n",
              " '1303.jpg',\n",
              " '1304.jpg',\n",
              " '1305.jpg',\n",
              " '1306.jpg',\n",
              " '1307.jpg',\n",
              " '1308.jpg',\n",
              " '1309.jpg',\n",
              " '1310.jpg',\n",
              " '1311.jpg',\n",
              " '1312.jpg',\n",
              " '1313.jpg',\n",
              " '1314.jpg',\n",
              " '1315.jpg',\n",
              " '1316.jpg',\n",
              " '1317.jpg',\n",
              " '1318.jpg',\n",
              " '1319.jpg',\n",
              " '1320.jpg',\n",
              " '1321.jpg',\n",
              " '1322.jpg',\n",
              " '1323.jpg',\n",
              " '1324.jpg',\n",
              " '1325.jpg',\n",
              " '1326.jpg',\n",
              " '1327.jpg',\n",
              " '1328.jpg',\n",
              " '1329.jpg',\n",
              " '1330.jpg',\n",
              " '1331.jpg',\n",
              " '1332.jpg',\n",
              " '1333.jpg',\n",
              " '1334.jpg',\n",
              " '1335.jpg',\n",
              " '1336.jpg',\n",
              " '1337.jpg',\n",
              " '1338.jpg',\n",
              " '1339.jpg',\n",
              " '1340.jpg',\n",
              " '1341.jpg',\n",
              " '1342.jpg',\n",
              " '1343.jpg',\n",
              " '1344.jpg',\n",
              " '1345.jpg',\n",
              " '1346.jpg',\n",
              " '1347.jpg',\n",
              " '1348.jpg',\n",
              " '1349.jpg',\n",
              " '1350.jpg',\n",
              " '1351.jpg',\n",
              " '1352.jpg',\n",
              " '1353.jpg',\n",
              " '1354.jpg',\n",
              " '1355.jpg',\n",
              " '1356.jpg',\n",
              " '1357.jpg',\n",
              " '1358.jpg',\n",
              " '1359.jpg',\n",
              " '1360.jpg',\n",
              " '1361.jpg',\n",
              " '1362.jpg',\n",
              " '1363.jpg',\n",
              " '1364.jpg',\n",
              " '1365.jpg',\n",
              " '1366.jpg',\n",
              " '1367.jpg',\n",
              " '1368.jpg',\n",
              " '1369.jpg',\n",
              " '1370.jpg',\n",
              " '1371.jpg',\n",
              " '1372.jpg',\n",
              " '1373.jpg',\n",
              " '1374.jpg',\n",
              " '1375.jpg',\n",
              " '1376.jpg',\n",
              " '1377.jpg',\n",
              " '1378.jpg',\n",
              " '1379.jpg',\n",
              " '1380.jpg',\n",
              " '1381.jpg',\n",
              " '1382.jpg',\n",
              " '1383.jpg',\n",
              " '1384.jpg',\n",
              " '1385.jpg',\n",
              " '1386.jpg',\n",
              " '1387.jpg',\n",
              " '1388.jpg',\n",
              " '1389.jpg',\n",
              " '1390.jpg',\n",
              " '1391.jpg',\n",
              " '1392.jpg',\n",
              " '1393.jpg',\n",
              " '1394.jpg',\n",
              " '1395.jpg',\n",
              " '1396.jpg',\n",
              " '1397.jpg',\n",
              " '1398.jpg',\n",
              " '1399.jpg',\n",
              " '1400.jpg',\n",
              " '1401.jpg',\n",
              " '1402.jpg',\n",
              " '1403.jpg',\n",
              " '1404.jpg',\n",
              " '1405.jpg',\n",
              " '1406.jpg',\n",
              " '1407.jpg',\n",
              " '1408.jpg',\n",
              " '1409.jpg',\n",
              " '1410.jpg',\n",
              " '1411.jpg',\n",
              " '1412.jpg',\n",
              " '1413.jpg',\n",
              " '1414.jpg',\n",
              " '1415.jpg',\n",
              " '1416.jpg',\n",
              " '1417.jpg',\n",
              " '1418.jpg',\n",
              " '1419.jpg',\n",
              " '1420.jpg',\n",
              " '1421.jpg',\n",
              " '1422.jpg',\n",
              " '1423.jpg',\n",
              " '1424.jpg',\n",
              " '1425.jpg',\n",
              " '1426.jpg',\n",
              " '1427.jpg',\n",
              " '1428.jpg',\n",
              " '1429.jpg',\n",
              " '1430.jpg',\n",
              " '1431.jpg',\n",
              " '1432.jpg',\n",
              " '1433.jpg',\n",
              " '1434.jpg',\n",
              " '1435.jpg',\n",
              " '1436.jpg',\n",
              " '1437.jpg',\n",
              " '1438.jpg',\n",
              " '1439.jpg',\n",
              " '1440.jpg',\n",
              " '1441.jpg',\n",
              " '1442.jpg',\n",
              " '1443.jpg']"
            ]
          },
          "metadata": {
            "tags": []
          },
          "execution_count": 38
        }
      ]
    },
    {
      "cell_type": "code",
      "metadata": {
        "id": "NQ6pRb2juToc",
        "colab_type": "code",
        "outputId": "1478c808-f229-48a4-9943-8c338599eb00",
        "colab": {
          "base_uri": "https://localhost:8080/",
          "height": 102
        }
      },
      "source": [
        "b = np.ones((5,5))\n",
        "\n",
        "a = np.delete(b, [a for a in range(1,3)], axis=0)\n",
        "a\n",
        "b"
      ],
      "execution_count": 0,
      "outputs": [
        {
          "output_type": "execute_result",
          "data": {
            "text/plain": [
              "array([[1., 1., 1., 1., 1.],\n",
              "       [1., 1., 1., 1., 1.],\n",
              "       [1., 1., 1., 1., 1.],\n",
              "       [1., 1., 1., 1., 1.],\n",
              "       [1., 1., 1., 1., 1.]])"
            ]
          },
          "metadata": {
            "tags": []
          },
          "execution_count": 39
        }
      ]
    },
    {
      "cell_type": "code",
      "metadata": {
        "id": "nHqh6g3-uToi",
        "colab_type": "code",
        "colab": {}
      },
      "source": [
        ""
      ],
      "execution_count": 0,
      "outputs": []
    },
    {
      "cell_type": "code",
      "metadata": {
        "id": "dwWSF3ttuToo",
        "colab_type": "code",
        "colab": {
          "base_uri": "https://localhost:8080/",
          "height": 238
        },
        "outputId": "8e7af4a9-dbdd-4a39-9504-6d910161eca9"
      },
      "source": [
        "W =[]\n",
        "W_o=np.zeros((10,1))\n",
        "counter=0 \n",
        "for i in range(0,len(Images1),240):\n",
        "    \n",
        "    #Get First Class say c1\n",
        "    c1 = ImagF[i:(i+240),:]\n",
        "    #Get Other Classes say c2\n",
        "    c2 = np.delete(ImagF , [a for a in range(i,(i+240))], axis=0)\n",
        "    #Get Means\n",
        "    mean1=m1(c1)\n",
        "    mean2=m2(c2)\n",
        "    \n",
        "    #Calculate SW\n",
        "    Sw=S1(c1,mean1)+S2(c2,mean2)\n",
        "    #Calculate its invers \"Note Use pinv function\"\n",
        "    Sw_inv=np.linalg.pinv(Sw)\n",
        "    #Calculate Weigths of the intended class \n",
        "    w = Sw_inv@(mean1 + mean2)\n",
        "    W.append(w)\n",
        "    #Calculate W_bias of it\n",
        "    \n",
        "    \n",
        "    \n",
        "    counter+=1\n",
        "W = np.array(W)\n",
        "W"
      ],
      "execution_count": 13,
      "outputs": [
        {
          "output_type": "execute_result",
          "data": {
            "text/plain": [
              "array([[ 4.05430378e-05, -2.24644559e-04,  1.99172929e-04, ...,\n",
              "        -3.11039025e-05, -5.18398376e-05,  5.95856209e-06],\n",
              "       [ 9.59068963e-05, -2.17172678e-04,  2.37739627e-04, ...,\n",
              "        -2.76436367e-05, -4.60727278e-05,  2.47265411e-05],\n",
              "       [ 3.26272277e-04, -3.13304507e-04,  1.18978077e-04, ...,\n",
              "        -6.10250446e-05, -1.01708408e-04, -4.14160914e-06],\n",
              "       ...,\n",
              "       [ 1.79883801e-04, -9.14060284e-05,  4.34405865e-04, ...,\n",
              "        -2.85806107e-05, -4.76343512e-05, -3.16135723e-05],\n",
              "       [ 4.15793815e-05,  2.90198332e-06,  3.89224630e-04, ...,\n",
              "         1.18602952e-06,  1.97671587e-06,  3.36728432e-05],\n",
              "       [ 9.85698355e-05, -2.93691279e-04,  2.21334705e-04, ...,\n",
              "        -4.06730615e-05, -6.77884358e-05,  3.93846087e-05]])"
            ]
          },
          "metadata": {
            "tags": []
          },
          "execution_count": 13
        }
      ]
    },
    {
      "cell_type": "markdown",
      "metadata": {
        "id": "LL8SCaoDuTov",
        "colab_type": "text"
      },
      "source": [
        "<font color=blue ><b>5-Testing Phase </b></font>"
      ]
    },
    {
      "cell_type": "code",
      "metadata": {
        "id": "XeQyBRaquTow",
        "colab_type": "code",
        "outputId": "6593d6da-f981-44bf-a56a-ceb959d6d528",
        "colab": {
          "base_uri": "https://localhost:8080/",
          "height": 282
        }
      },
      "source": [
        "#-----------------Testing---------------\n",
        "path1 = '/content/drive/My Drive/assignment_1_fisher/'\n",
        "os.chdir(path1)\n",
        "Test_Labels=np.loadtxt(\"Test Labels.txt\")\n",
        "path='/content/drive/My Drive/assignment_1_fisher/Test'\n",
        "os.chdir(path)\n",
        "Test_Image=os.listdir()\n",
        "Test_Image.pop()\n",
        "Test_Image1=sorted(Test_Image, key=lambda t: int(os.path.splitext(t)[0]))\n",
        "Imag_T=np.zeros((200,784))\n",
        "for i in range(len(Test_Image1)):\n",
        "    Imag=imageio.imread( Test_Image1[i])\n",
        "    Imag_T[i,:]=Imag.reshape((1,784)) \n",
        "plt.imshow(Imag.reshape(28,28))   \n",
        "# Calculate Predicted Y \n",
        "\n",
        "# Calculate Predicted Labels\n",
        "\n",
        "\n",
        "#Calculate Accuracy and Print it\n",
        "\n",
        "\n",
        "#Plot Confusion Matrix and save it but take care to save it in another folder NOT TRAIN or TEST\n"
      ],
      "execution_count": 17,
      "outputs": [
        {
          "output_type": "execute_result",
          "data": {
            "text/plain": [
              "<matplotlib.image.AxesImage at 0x7f53b3257d68>"
            ]
          },
          "metadata": {
            "tags": []
          },
          "execution_count": 17
        },
        {
          "output_type": "display_data",
          "data": {
            "image/png": "[encoded data removed]",
            "text/plain": [
              "<Figure size 432x288 with 1 Axes>"
            ]
          },
          "metadata": {
            "tags": []
          }
        }
      ]
    },
    {
      "cell_type": "code",
      "metadata": {
        "id": "15eSVoLn5J7D",
        "colab_type": "code",
        "colab": {}
      },
      "source": [
        ""
      ],
      "execution_count": 0,
      "outputs": []
    }
  ]
}